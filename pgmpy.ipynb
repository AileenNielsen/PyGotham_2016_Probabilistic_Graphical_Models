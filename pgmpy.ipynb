{
 "cells": [
  {
   "cell_type": "code",
   "execution_count": 78,
   "metadata": {
    "collapsed": false
   },
   "outputs": [],
   "source": [
    "from pgmpy.factors import TabularCPD\n",
    "from pgmpy.models import BayesianModel"
   ]
  },
  {
   "cell_type": "markdown",
   "metadata": {},
   "source": [
    "# Setting up your model"
   ]
  },
  {
   "cell_type": "markdown",
   "metadata": {},
   "source": [
    "### First, set the structure"
   ]
  },
  {
   "cell_type": "code",
   "execution_count": 79,
   "metadata": {
    "collapsed": false
   },
   "outputs": [],
   "source": [
    "olympic_model = BayesianModel([('Genetics', 'OlympicTrials'),\n",
    "                             ('Practice', 'OlympicTrials'),\n",
    "                             ('OlympicTrials', 'Offer')])"
   ]
  },
  {
   "cell_type": "markdown",
   "metadata": {},
   "source": [
    "### Then set up the relationships (the CPDs)"
   ]
  },
  {
   "cell_type": "code",
   "execution_count": 80,
   "metadata": {
    "collapsed": true
   },
   "outputs": [],
   "source": [
    "genetics_cpd = TabularCPD(\n",
    "                variable = 'Genetics',\n",
    "                variable_card = 2,\n",
    "                values = [[.2,.8]])"
   ]
  },
  {
   "cell_type": "code",
   "execution_count": 81,
   "metadata": {
    "collapsed": true
   },
   "outputs": [],
   "source": [
    "practice_cpd = TabularCPD(\n",
    "                variable = 'Practice',\n",
    "                variable_card = 2,\n",
    "                values = [[.7,.3]])"
   ]
  },
  {
   "cell_type": "code",
   "execution_count": 82,
   "metadata": {
    "collapsed": true
   },
   "outputs": [],
   "source": [
    "offer_cpd = TabularCPD(\n",
    "                    variable = 'Offer',\n",
    "                    variable_card = 2,\n",
    "                    values = [[.95, .8, .5],\n",
    "                             [.05, .2, .5]],\n",
    "                    evidence = ['OlympicTrials'],\n",
    "                    evidence_card = 3)"
   ]
  },
  {
   "cell_type": "code",
   "execution_count": 83,
   "metadata": {
    "collapsed": false
   },
   "outputs": [],
   "source": [
    "olympic_trials_cpd = TabularCPD(\n",
    "                        variable = 'OlympicTrials', \n",
    "                        variable_card = 3,\n",
    "                        values = [[.5, .8, .8, .9],\n",
    "                                 [.3, .15, .1, .08],\n",
    "                                 [.2, .05, .1, .02]],\n",
    "                        evidence = ['Genetics', 'Practice'],\n",
    "                        evidence_card = [2,2])"
   ]
  },
  {
   "cell_type": "markdown",
   "metadata": {},
   "source": [
    "### Add the relationships to your models"
   ]
  },
  {
   "cell_type": "code",
   "execution_count": 85,
   "metadata": {
    "collapsed": false
   },
   "outputs": [
    {
     "name": "stderr",
     "output_type": "stream",
     "text": [
      "WARNING:root:Replacing existing CPD for Genetics\n",
      "WARNING:root:Replacing existing CPD for Practice\n",
      "WARNING:root:Replacing existing CPD for Offer\n",
      "WARNING:root:Replacing existing CPD for OlympicTrials\n"
     ]
    }
   ],
   "source": [
    "olympic_model.add_cpds (genetics_cpd, practice_cpd, offer_cpd, olympic_trials_cpd)"
   ]
  },
  {
   "cell_type": "markdown",
   "metadata": {},
   "source": [
    "### Examine the structure of your graph"
   ]
  },
  {
   "cell_type": "code",
   "execution_count": 86,
   "metadata": {
    "collapsed": false
   },
   "outputs": [
    {
     "data": {
      "text/plain": [
       "[<TabularCPD representing P(Genetics:2) at 0x1169632e8>,\n",
       " <TabularCPD representing P(Practice:2) at 0x1169636a0>,\n",
       " <TabularCPD representing P(Offer:2 | OlympicTrials:3) at 0x116963940>,\n",
       " <TabularCPD representing P(OlympicTrials:3 | Genetics:2, Practice:2) at 0x116963ef0>]"
      ]
     },
     "execution_count": 86,
     "metadata": {},
     "output_type": "execute_result"
    }
   ],
   "source": [
    "olympic_model.get_cpds()"
   ]
  },
  {
   "cell_type": "markdown",
   "metadata": {},
   "source": [
    "### Find active trail nodes"
   ]
  },
  {
   "cell_type": "code",
   "execution_count": 87,
   "metadata": {
    "collapsed": false
   },
   "outputs": [
    {
     "data": {
      "text/plain": [
       "{'Genetics', 'Offer', 'OlympicTrials'}"
      ]
     },
     "execution_count": 87,
     "metadata": {},
     "output_type": "execute_result"
    }
   ],
   "source": [
    "olympic_model.active_trail_nodes('Genetics')"
   ]
  },
  {
   "cell_type": "code",
   "execution_count": 88,
   "metadata": {
    "collapsed": false
   },
   "outputs": [
    {
     "data": {
      "text/plain": [
       "{'Genetics', 'Offer', 'OlympicTrials', 'Practice'}"
      ]
     },
     "execution_count": 88,
     "metadata": {},
     "output_type": "execute_result"
    }
   ],
   "source": [
    "olympic_model.active_trail_nodes('OlympicTrials')"
   ]
  },
  {
   "cell_type": "markdown",
   "metadata": {},
   "source": [
    "### Find local independencies"
   ]
  },
  {
   "cell_type": "code",
   "execution_count": 89,
   "metadata": {
    "collapsed": false
   },
   "outputs": [
    {
     "data": {
      "text/plain": [
       "(Genetics _|_ Practice)"
      ]
     },
     "execution_count": 89,
     "metadata": {},
     "output_type": "execute_result"
    }
   ],
   "source": [
    "olympic_model.local_independencies('Genetics')"
   ]
  },
  {
   "cell_type": "code",
   "execution_count": 90,
   "metadata": {
    "collapsed": false
   },
   "outputs": [
    {
     "data": {
      "text/plain": []
     },
     "execution_count": 90,
     "metadata": {},
     "output_type": "execute_result"
    }
   ],
   "source": [
    "olympic_model.local_independencies('OlympicTrials')"
   ]
  },
  {
   "cell_type": "markdown",
   "metadata": {},
   "source": [
    "### Get all independencies"
   ]
  },
  {
   "cell_type": "code",
   "execution_count": 91,
   "metadata": {
    "collapsed": false
   },
   "outputs": [
    {
     "data": {
      "text/plain": [
       "(Genetics _|_ Practice)\n",
       "(Genetics _|_ Offer | OlympicTrials)\n",
       "(Genetics _|_ Offer | Practice, OlympicTrials)\n",
       "(Practice _|_ Genetics)\n",
       "(Practice _|_ Offer | OlympicTrials)\n",
       "(Practice _|_ Offer | Genetics, OlympicTrials)\n",
       "(Offer _|_ Genetics, Practice | OlympicTrials)\n",
       "(Offer _|_ Practice | Genetics, OlympicTrials)\n",
       "(Offer _|_ Genetics | Practice, OlympicTrials)"
      ]
     },
     "execution_count": 91,
     "metadata": {},
     "output_type": "execute_result"
    }
   ],
   "source": [
    "olympic_model.get_independencies()"
   ]
  },
  {
   "cell_type": "markdown",
   "metadata": {},
   "source": [
    "# Making inferences"
   ]
  },
  {
   "cell_type": "markdown",
   "metadata": {},
   "source": [
    "### We can get probability distributions that are not explicitly spelled out in our graphs"
   ]
  },
  {
   "cell_type": "code",
   "execution_count": 92,
   "metadata": {
    "collapsed": true
   },
   "outputs": [],
   "source": [
    "from pgmpy.inference import VariableElimination"
   ]
  },
  {
   "cell_type": "code",
   "execution_count": 93,
   "metadata": {
    "collapsed": false
   },
   "outputs": [],
   "source": [
    "olympic_infer = VariableElimination(olympic_model)"
   ]
  },
  {
   "cell_type": "code",
   "execution_count": 94,
   "metadata": {
    "collapsed": false
   },
   "outputs": [
    {
     "name": "stdout",
     "output_type": "stream",
     "text": [
      "╒═════════╤══════════════╕\n",
      "│ Offer   │   phi(Offer) │\n",
      "╞═════════╪══════════════╡\n",
      "│ Offer_0 │       0.8898 │\n",
      "├─────────┼──────────────┤\n",
      "│ Offer_1 │       0.1102 │\n",
      "╘═════════╧══════════════╛\n"
     ]
    }
   ],
   "source": [
    "prob_offer = olympic_infer.query(variables = ['Offer'])\n",
    "print(prob_offer['Offer'])"
   ]
  },
  {
   "cell_type": "markdown",
   "metadata": {},
   "source": [
    "### We can also get conditional probability distributions that take into account what we already know"
   ]
  },
  {
   "cell_type": "code",
   "execution_count": null,
   "metadata": {
    "collapsed": false
   },
   "outputs": [],
   "source": [
    "prob_offer_good_genes = olympic_infer.query(\n",
    "                                        variables = ['Offer', 'Genetics'])\n",
    "print(prob_offer_good_genes['Genetics'])\n",
    "print(prob_offer_good_genes['Offer'])"
   ]
  },
  {
   "cell_type": "code",
   "execution_count": null,
   "metadata": {
    "collapsed": false
   },
   "outputs": [],
   "source": [
    "prob_offer_good_genes = olympic_infer.query(\n",
    "                                        variables = ['Offer', 'OlympicTrials'])\n",
    "print(prob_offer_good_genes['OlympicTrials'])\n",
    "print(prob_offer_good_genes['Offer'])"
   ]
  },
  {
   "cell_type": "code",
   "execution_count": 95,
   "metadata": {
    "collapsed": false
   },
   "outputs": [
    {
     "name": "stdout",
     "output_type": "stream",
     "text": [
      "╒═════════╤══════════════╕\n",
      "│ Offer   │   phi(Offer) │\n",
      "╞═════════╪══════════════╡\n",
      "│ Offer_0 │       0.9017 │\n",
      "├─────────┼──────────────┤\n",
      "│ Offer_1 │       0.0983 │\n",
      "╘═════════╧══════════════╛\n"
     ]
    }
   ],
   "source": [
    "prob_offer_bad_genes = olympic_infer.query(\n",
    "                                        variables = ['Offer'], \n",
    "                                        evidence = {'Genetics':1})\n",
    "print(prob_offer_bad_genes['Offer'])"
   ]
  },
  {
   "cell_type": "code",
   "execution_count": 96,
   "metadata": {
    "collapsed": false
   },
   "outputs": [
    {
     "name": "stdout",
     "output_type": "stream",
     "text": [
      "╒═════════╤══════════════╕\n",
      "│ Offer   │   phi(Offer) │\n",
      "╞═════════╪══════════════╡\n",
      "│ Offer_0 │       0.8420 │\n",
      "├─────────┼──────────────┤\n",
      "│ Offer_1 │       0.1580 │\n",
      "╘═════════╧══════════════╛\n"
     ]
    }
   ],
   "source": [
    "prob_offer_good_genes = olympic_infer.query(\n",
    "                                        variables = ['Offer'], \n",
    "                                        evidence = {'Genetics':0})\n",
    "print(prob_offer_good_genes['Offer'])"
   ]
  },
  {
   "cell_type": "code",
   "execution_count": 97,
   "metadata": {
    "collapsed": false
   },
   "outputs": [
    {
     "name": "stdout",
     "output_type": "stream",
     "text": [
      "╒═════════╤══════════════╕\n",
      "│ Offer   │   phi(Offer) │\n",
      "╞═════════╪══════════════╡\n",
      "│ Offer_0 │       0.8150 │\n",
      "├─────────┼──────────────┤\n",
      "│ Offer_1 │       0.1850 │\n",
      "╘═════════╧══════════════╛\n"
     ]
    }
   ],
   "source": [
    "prob_offer_good_genes_did_practice = olympic_infer.query(\n",
    "                                        variables = ['Offer'], \n",
    "                                        evidence = {'Genetics':0, 'Practice':0})\n",
    "print(prob_offer_good_genes_did_practice['Offer'])"
   ]
  },
  {
   "cell_type": "markdown",
   "metadata": {},
   "source": [
    "### You can also go upstream logically. For example, evidence about performance at the Olympic Trials affects the probabilities of Genetics."
   ]
  },
  {
   "cell_type": "code",
   "execution_count": 98,
   "metadata": {
    "collapsed": false
   },
   "outputs": [
    {
     "name": "stdout",
     "output_type": "stream",
     "text": [
      "╒════════════╤═════════════════╕\n",
      "│ Genetics   │   phi(Genetics) │\n",
      "╞════════════╪═════════════════╡\n",
      "│ Genetics_0 │          0.3377 │\n",
      "├────────────┼─────────────────┤\n",
      "│ Genetics_1 │          0.6623 │\n",
      "╘════════════╧═════════════════╛\n"
     ]
    }
   ],
   "source": [
    "prob_good_genes_if_amazing_olympic_trials = olympic_infer.query(\n",
    "                                        variables = ['Genetics'], \n",
    "                                        evidence = {'OlympicTrials':2})\n",
    "print(prob_good_genes_if_amazing_olympic_trials['Genetics'])"
   ]
  },
  {
   "cell_type": "markdown",
   "metadata": {},
   "source": [
    "### Some variables are only informative about other variables given 'third' variables"
   ]
  },
  {
   "cell_type": "code",
   "execution_count": 99,
   "metadata": {
    "collapsed": false
   },
   "outputs": [
    {
     "name": "stdout",
     "output_type": "stream",
     "text": [
      "╒════════════╤═════════════════╕\n",
      "│ Genetics   │   phi(Genetics) │\n",
      "╞════════════╪═════════════════╡\n",
      "│ Genetics_0 │          0.2000 │\n",
      "├────────────┼─────────────────┤\n",
      "│ Genetics_1 │          0.8000 │\n",
      "╘════════════╧═════════════════╛\n"
     ]
    }
   ],
   "source": [
    "# Practice does not inherently tell us something about Genetics\n",
    "prob_good_genes_if_no_practice = olympic_infer.query(\n",
    "                                        variables = ['Genetics'], \n",
    "                                        evidence = {'Practice':1})\n",
    "print(prob_good_genes_if_no_practice['Genetics'])"
   ]
  },
  {
   "cell_type": "code",
   "execution_count": 100,
   "metadata": {
    "collapsed": false
   },
   "outputs": [
    {
     "name": "stdout",
     "output_type": "stream",
     "text": [
      "╒════════════╤═════════════════╕\n",
      "│ Genetics   │   phi(Genetics) │\n",
      "╞════════════╪═════════════════╡\n",
      "│ Genetics_0 │          0.3846 │\n",
      "├────────────┼─────────────────┤\n",
      "│ Genetics_1 │          0.6154 │\n",
      "╘════════════╧═════════════════╛\n"
     ]
    }
   ],
   "source": [
    "# BUT Practice does tell us something about genetics IF we also \n",
    "# know something about olympic trials performance\n",
    "prob_good_genes_if_no_practice_good_olympic_trials = olympic_infer.query(\n",
    "                                        variables = ['Genetics'], \n",
    "                                        evidence = {'Practice':1,\n",
    "                                                   'OlympicTrials':2})\n",
    "print(prob_good_genes_if_no_practice_good_olympic_trials['Genetics'])"
   ]
  },
  {
   "cell_type": "markdown",
   "metadata": {},
   "source": [
    "### We can find out the most probable state for a variable"
   ]
  },
  {
   "cell_type": "code",
   "execution_count": 101,
   "metadata": {
    "collapsed": false
   },
   "outputs": [
    {
     "data": {
      "text/plain": [
       "{'Genetics': 1}"
      ]
     },
     "execution_count": 101,
     "metadata": {},
     "output_type": "execute_result"
    }
   ],
   "source": [
    "olympic_infer.map_query(variables = ['Genetics'])"
   ]
  },
  {
   "cell_type": "code",
   "execution_count": 102,
   "metadata": {
    "collapsed": false
   },
   "outputs": [
    {
     "data": {
      "text/plain": [
       "{'Offer': 0}"
      ]
     },
     "execution_count": 102,
     "metadata": {},
     "output_type": "execute_result"
    }
   ],
   "source": [
    "olympic_infer.map_query(variables = ['Offer'])"
   ]
  },
  {
   "cell_type": "code",
   "execution_count": 103,
   "metadata": {
    "collapsed": false
   },
   "outputs": [
    {
     "data": {
      "text/plain": [
       "{'OlympicTrials': 0}"
      ]
     },
     "execution_count": 103,
     "metadata": {},
     "output_type": "execute_result"
    }
   ],
   "source": [
    "olympic_infer.map_query(variables = ['OlympicTrials'])"
   ]
  },
  {
   "cell_type": "code",
   "execution_count": null,
   "metadata": {
    "collapsed": true
   },
   "outputs": [],
   "source": []
  }
 ],
 "metadata": {
  "kernelspec": {
   "display_name": "Python 3",
   "language": "python",
   "name": "python3"
  },
  "language_info": {
   "codemirror_mode": {
    "name": "ipython",
    "version": 3
   },
   "file_extension": ".py",
   "mimetype": "text/x-python",
   "name": "python",
   "nbconvert_exporter": "python",
   "pygments_lexer": "ipython3",
   "version": "3.5.2"
  },
  "widgets": {
   "state": {},
   "version": "1.1.1"
  }
 },
 "nbformat": 4,
 "nbformat_minor": 0
}
